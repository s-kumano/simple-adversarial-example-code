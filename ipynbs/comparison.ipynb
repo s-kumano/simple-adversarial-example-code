{
 "cells": [
  {
   "cell_type": "code",
   "execution_count": 1,
   "metadata": {},
   "outputs": [],
   "source": [
    "import os\n",
    "\n",
    "import matplotlib.pyplot as plt\n",
    "import seaborn as sns\n",
    "import torch\n",
    "import torchvision\n",
    "from pytorch_lightning.utilities.seed import seed_everything\n",
    "from robustbench.utils import load_model\n",
    "from torch import Tensor\n",
    "from torch.nn import Module\n",
    "from torch.utils.data import DataLoader\n",
    "from torchattacks import APGD, FGSM, PGD\n",
    "from torchvision import transforms as T"
   ]
  },
  {
   "cell_type": "code",
   "execution_count": null,
   "metadata": {},
   "outputs": [],
   "source": [
    "root = os.path.join('..')\n",
    "device = torch.device('cuda:0')"
   ]
  },
  {
   "cell_type": "code",
   "execution_count": 2,
   "metadata": {},
   "outputs": [],
   "source": [
    "def freeze(model: Module) -> None:\n",
    "    for p in model.parameters():\n",
    "        p.requires_grad = False\n",
    "    model.eval()\n",
    "\n",
    "@torch.no_grad()\n",
    "def calc_acc(model: Module, imgs: Tensor, labels: Tensor) -> float:\n",
    "    logits = model(imgs)\n",
    "    pred_labels = logits.max(1)[1]\n",
    "    corrects = pred_labels == labels\n",
    "    acc = corrects.sum() / len(corrects)\n",
    "    return acc.item()\n",
    "\n",
    "dataset_root = os.path.join(os.path.sep, 'root', 'datasets')\n",
    "dataset = torchvision.datasets.CIFAR10(dataset_root, False, T.ToTensor())\n",
    "\n",
    "dataloader = DataLoader(dataset, batch_size=100, shuffle=False, pin_memory=True)\n",
    "imgs, labels = next(iter(dataloader))\n",
    "imgs = imgs.to(device)\n",
    "labels = labels.to(device)\n",
    "\n",
    "# This model includes normalization module\n",
    "# Mean (0.4914, 0.4822, 0.4465)\n",
    "# Std (0.2471, 0.2435, 0.2616)\n",
    "model = load_model('Engstrom2019Robustness', threat_model='Linf')\n",
    "freeze(model)\n",
    "model = model.to(device)\n",
    "\n",
    "sns.set_theme()"
   ]
  },
  {
   "cell_type": "markdown",
   "metadata": {},
   "source": [
    "### Comparison with FGSM, PGD, and APGD in CIFAR-10\n",
    "\n",
    "##### Fast Gradient Sign Method (FGSM)\n",
    "- [Explaining and Harnessing Adversarial Examples](https://arxiv.org/abs/1412.6572)\n",
    "- One-iteration\n",
    "\n",
    "##### Projected Gradient Descent (PGD)\n",
    "- [Towards Deep Learning Models Resistant to Adversarial Attacks](https://arxiv.org/abs/1706.06083)\n",
    "- Multi-iteration\n",
    "\n",
    "##### Auto-PGD (APGD)\n",
    "- [Reliable evaluation of adversarial robustness with an ensemble of diverse parameter-free attacks](https://arxiv.org/abs/2003.01690)\n",
    "- Multi-iteration and dynamical step"
   ]
  },
  {
   "cell_type": "code",
   "execution_count": 3,
   "metadata": {},
   "outputs": [
    {
     "name": "stderr",
     "output_type": "stream",
     "text": [
      "Global seed set to 0\n"
     ]
    }
   ],
   "source": [
    "seed_everything(0, True)\n",
    "\n",
    "atk_acc_dict = {}\n",
    "atk_names = ('FGSM', 'PGD', 'APGD')\n",
    "perturbation_constraints = (0/255, 2/255, 4/255, 6/255, 8/255)\n",
    "\n",
    "natural_acc = calc_acc(model, imgs, labels)\n",
    "\n",
    "for atk_name in atk_names:\n",
    "    \n",
    "    # If perturbation constraint is 0/255\n",
    "    # attack accuracy is error rate for natural data\n",
    "    atk_acc_dict[atk_name] = [1 - natural_acc]\n",
    "\n",
    "    for perturbation_constraint in perturbation_constraints[1:]:\n",
    "\n",
    "        if atk_name == 'FGSM':\n",
    "            atk = FGSM(model, perturbation_constraint)\n",
    "        elif atk_name == 'PGD':\n",
    "            atk = PGD(model, perturbation_constraint, perturbation_constraint / 4, 25)\n",
    "        else:\n",
    "            atk = APGD(model, eps=perturbation_constraint, steps=25)\n",
    "\n",
    "        advs = atk(imgs, labels)\n",
    "        robust_acc = calc_acc(model, advs, labels)\n",
    "        atk_acc_dict[atk_name].append(1 - robust_acc)\n"
   ]
  },
  {
   "cell_type": "code",
   "execution_count": 4,
   "metadata": {},
   "outputs": [
    {
     "data": {
      "image/png": "[encoded data removed]",
      "text/plain": [
       "<Figure size 432x288 with 1 Axes>"
      ]
     },
     "metadata": {
      "needs_background": "light"
     },
     "output_type": "display_data"
    }
   ],
   "source": [
    "sns.set_context('notebook', 1.3) # type: ignore\n",
    "\n",
    "for atk_name in atk_names:\n",
    "    plt.plot(perturbation_constraints, atk_acc_dict[atk_name], label=atk_name, linewidth=3, marker='o')\n",
    "\n",
    "plt.legend()\n",
    "plt.xticks(perturbation_constraints, labels=('0', '2/255', '4/255', '6/255', '8/255'))\n",
    "plt.xlabel('Perturbation Constraint')\n",
    "plt.ylabel('Attack Accuracy')\n",
    "\n",
    "path = os.path.join(root, 'graphs', 'atk_acc_by_grad_based_atks.pdf')\n",
    "plt.savefig(path, bbox_inches='tight', pad_inches=0.025)\n",
    "\n",
    "plt.show()"
   ]
  },
  {
   "cell_type": "markdown",
   "metadata": {},
   "source": [
    "### Comparison with cross-entropy and DLR loss under gradient masking\n",
    "Adversarial attacks based on cross-entropy sometimes fail to deceive classifiers due to gradient vanishing (gradient masking). The Difference of Logits Ratio (DLR) loss (in [Reliable evaluation of adversarial robustness with an ensemble of diverse parameter-free attacks](https://arxiv.org/abs/2003.01690)) can prevent this. Here, we intentionally craft classifiers with gradient masking to demonstrate the limitations of cross-entropy loss."
   ]
  },
  {
   "cell_type": "code",
   "execution_count": 5,
   "metadata": {},
   "outputs": [
    {
     "name": "stderr",
     "output_type": "stream",
     "text": [
      "Global seed set to 0\n"
     ]
    }
   ],
   "source": [
    "seed_everything(0, True)\n",
    "\n",
    "class GradVanishedModel(Module):\n",
    "    def __init__(self, model: Module) -> None:\n",
    "        super().__init__()\n",
    "        self.model = model\n",
    "\n",
    "    def forward(self, x: Tensor) -> Tensor:\n",
    "        logits = self.model(x)\n",
    "        logits *= 9999999 # vanish gradients\n",
    "        return logits\n",
    "\n",
    "grad_vanished_model = GradVanishedModel(model)\n",
    "freeze(grad_vanished_model)\n",
    "grad_vanished_model = grad_vanished_model.to(device)\n",
    "\n",
    "model_list = [model, grad_vanished_model]\n",
    "\n",
    "atk_acc_list = []\n",
    "loss_names = ('Cross-Entropy', 'Difference of Logits Ratio')\n",
    "\n",
    "for model_tmp in model_list: # avoid duplicate variable name\n",
    "    natural_err = 1 - calc_acc(model_tmp, imgs, labels)\n",
    "\n",
    "    for loss_name in loss_names:\n",
    "\n",
    "        if loss_name == 'Cross-Entropy':\n",
    "            atk = APGD(model_tmp, eps=8/255, steps=25, loss='ce')\n",
    "        else:\n",
    "            atk = APGD(model_tmp, eps=8/255, steps=25, loss='dlr')\n",
    "\n",
    "        advs = atk(imgs, labels)\n",
    "        acc = calc_acc(model_tmp, advs, labels)\n",
    "\n",
    "        # Here, we subtract the error rate for natural images \n",
    "        # from the error rate for adversarial examples.\n",
    "        # This differs from the above evaluation.\n",
    "        atk_acc = 1 - acc - natural_err\n",
    "        atk_acc_list.append(atk_acc)\n"
   ]
  },
  {
   "cell_type": "code",
   "execution_count": 6,
   "metadata": {},
   "outputs": [
    {
     "data": {
      "image/png": "[encoded data removed]",
      "text/plain": [
       "<Figure size 720x345.6 with 1 Axes>"
      ]
     },
     "metadata": {
      "needs_background": "light"
     },
     "output_type": "display_data"
    }
   ],
   "source": [
    "sns.set_context('notebook', 1.3) # type: ignore\n",
    "\n",
    "plt.figure(figsize=(10, 4.8))\n",
    "\n",
    "x = ('CE (model 1)', 'DLR (model 1)', 'CE (model 2)', 'DLR (model 2)')\n",
    "plt.bar(x, atk_acc_list, color=sns.color_palette())\n",
    "\n",
    "plt.xlabel('Loss Function')\n",
    "plt.ylabel('Attack Accuracy')\n",
    "\n",
    "path = os.path.join(root, 'graphs', 'atk_acc_under_grad_masking.pdf')\n",
    "plt.savefig(path, bbox_inches='tight', pad_inches=0.025)\n",
    "\n",
    "plt.show()"
   ]
  }
 ],
 "metadata": {
  "kernelspec": {
   "display_name": "Python 3.8.13 ('base')",
   "language": "python",
   "name": "python3"
  },
  "language_info": {
   "codemirror_mode": {
    "name": "ipython",
    "version": 3
   },
   "file_extension": ".py",
   "mimetype": "text/x-python",
   "name": "python",
   "nbconvert_exporter": "python",
   "pygments_lexer": "ipython3",
   "version": "3.8.13"
  },
  "orig_nbformat": 4,
  "vscode": {
   "interpreter": {
    "hash": "d4d1e4263499bec80672ea0156c357c1ee493ec2b1c70f0acce89fc37c4a6abe"
   }
  }
 },
 "nbformat": 4,
 "nbformat_minor": 2
}
