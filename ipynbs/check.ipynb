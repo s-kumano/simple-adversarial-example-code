{
 "cells": [
  {
   "cell_type": "markdown",
   "metadata": {},
   "source": [
    "Due to the conversion from `float` to `uint8`, the distance between clean and adversarial images exceeds the allowed perturbation norm."
   ]
  },
  {
   "cell_type": "code",
   "execution_count": 1,
   "metadata": {},
   "outputs": [
    {
     "name": "stdout",
     "output_type": "stream",
     "text": [
      "cat\n",
      "False perturbation=4_resolution=224 5.0\n",
      "False perturbation=4_resolution=224 5.0\n",
      "False perturbation=8_resolution=224 9.0\n",
      "False perturbation=8_resolution=224 9.0\n",
      "False perturbation=16_resolution=224 17.0\n",
      "False perturbation=16_resolution=224 17.0\n",
      "False perturbation=24_resolution=224 25.0\n",
      "False perturbation=24_resolution=224 25.0\n",
      "False perturbation=32_resolution=224 33.0\n",
      "False perturbation=32_resolution=224 33.0\n",
      "False perturbation=64_resolution=224 65.0\n",
      "False perturbation=64_resolution=224 65.0\n",
      "False perturbation=4_resolution=400 5.0\n",
      "False perturbation=4_resolution=400 5.0\n",
      "False perturbation=8_resolution=400 9.0\n",
      "False perturbation=8_resolution=400 9.0\n",
      "False perturbation=16_resolution=400 17.0\n",
      "False perturbation=16_resolution=400 17.0\n",
      "False perturbation=24_resolution=400 25.0\n",
      "False perturbation=24_resolution=400 25.0\n",
      "False perturbation=32_resolution=400 33.0\n",
      "False perturbation=32_resolution=400 33.0\n",
      "False perturbation=64_resolution=400 65.0\n",
      "False perturbation=64_resolution=400 65.0\n",
      "----------------------------------------------------------------------\n",
      "plate\n",
      "False perturbation=4_resolution=224 5.0\n",
      "False perturbation=4_resolution=224 5.0\n",
      "False perturbation=8_resolution=224 9.0\n",
      "False perturbation=8_resolution=224 9.0\n",
      "False perturbation=16_resolution=224 17.0\n",
      "False perturbation=16_resolution=224 17.0\n",
      "False perturbation=24_resolution=224 25.0\n",
      "False perturbation=24_resolution=224 25.0\n",
      "False perturbation=32_resolution=224 33.0\n",
      "False perturbation=32_resolution=224 33.0\n",
      "False perturbation=64_resolution=224 65.0\n",
      "False perturbation=64_resolution=224 65.0\n",
      "False perturbation=4_resolution=400 5.0\n",
      "False perturbation=4_resolution=400 5.0\n",
      "False perturbation=8_resolution=400 9.0\n",
      "False perturbation=8_resolution=400 9.0\n",
      "False perturbation=16_resolution=400 17.0\n",
      "False perturbation=16_resolution=400 17.0\n",
      "False perturbation=24_resolution=400 25.0\n",
      "False perturbation=24_resolution=400 25.0\n",
      "False perturbation=32_resolution=400 33.0\n",
      "False perturbation=32_resolution=400 33.0\n",
      "False perturbation=64_resolution=400 65.0\n",
      "False perturbation=64_resolution=400 65.0\n",
      "----------------------------------------------------------------------\n"
     ]
    }
   ],
   "source": [
    "import os\n",
    "\n",
    "import torch\n",
    "import torchvision\n",
    "\n",
    "root = os.path.join(os.path.sep, 'root', 'project')\n",
    "\n",
    "def read_img(path: str) -> torch.Tensor:\n",
    "    return torchvision.io.read_image(path).float() # type: ignore\n",
    "\n",
    "advs_root = os.path.join(root, 'advs')\n",
    "for dname in os.listdir(advs_root):\n",
    "    print(dname)\n",
    "    advs_obj_root = os.path.join(advs_root, dname)\n",
    "    img_paths = [os.path.join(advs_obj_root, fname) for fname in os.listdir(advs_obj_root)]\n",
    "    \n",
    "    for img_size in (224, 400):\n",
    "        clean_img_path = [p for p in img_paths if f'perturbation=0_resolution={img_size}' in p][0]\n",
    "        clean_img = read_img(clean_img_path)\n",
    "\n",
    "        for perturbation_size in (4, 8, 16, 24, 32, 64):\n",
    "            adv_type = f'perturbation={perturbation_size}_resolution={img_size}'\n",
    "            adv_img_paths = [p for p in img_paths if adv_type in p]\n",
    "\n",
    "            for adv_img_path in adv_img_paths:\n",
    "                adv_img = read_img(adv_img_path)\n",
    "                \n",
    "                distance = (adv_img - clean_img).norm(float('inf')).item()\n",
    "                check = distance <= perturbation_size\n",
    "                print(check, adv_type, distance)\n",
    "\n",
    "    print('-' * 70)"
   ]
  }
 ],
 "metadata": {
  "kernelspec": {
   "display_name": "Python 3",
   "language": "python",
   "name": "python3"
  },
  "language_info": {
   "codemirror_mode": {
    "name": "ipython",
    "version": 3
   },
   "file_extension": ".py",
   "mimetype": "text/x-python",
   "name": "python",
   "nbconvert_exporter": "python",
   "pygments_lexer": "ipython3",
   "version": "3.10.12"
  },
  "orig_nbformat": 4
 },
 "nbformat": 4,
 "nbformat_minor": 2
}
